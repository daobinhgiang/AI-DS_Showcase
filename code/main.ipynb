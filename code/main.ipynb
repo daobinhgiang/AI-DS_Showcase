{
 "cells": [
  {
   "cell_type": "code",
   "execution_count": null,
   "id": "e98b0094",
   "metadata": {},
   "outputs": [],
   "source": []
  },
  {
   "cell_type": "code",
   "execution_count": null,
   "id": "f865ff1a",
   "metadata": {},
   "outputs": [],
   "source": [
    "# Emotion Classification with BERT\n",
    "from transformers import pipeline\n",
    "\n",
    "classifier = pipeline(\"text-classification\", model=\"bhadresh-savani/bert-base-uncased-emotion\")"
   ]
  },
  {
   "cell_type": "code",
   "execution_count": null,
   "id": "acea27a1",
   "metadata": {},
   "outputs": [],
   "source": [
    "text = \"I'm feeling extremely anxious and can't sleep.\"\n",
    "result = classifier(text)\n",
    "print(result)"
   ]
  },
  {
   "cell_type": "code",
   "execution_count": null,
   "id": "c8c3025e",
   "metadata": {},
   "outputs": [],
   "source": [
    "# State management for dialogue systems\n",
    "class DialogueStateTracker:\n",
    "    def __init__(self):\n",
    "        self.state = {\n",
    "            \"slots\": {},\n",
    "            \"intents\": [],\n",
    "            \"emotions\": [],\n",
    "            \"history\": []\n",
    "        }\n",
    "\n",
    "    def update(self, user_input, intent, slots, emotion):\n",
    "        self.state[\"history\"].append(user_input)\n",
    "        self.state[\"intents\"].append(intent)\n",
    "        self.state[\"emotions\"].append(emotion)\n",
    "        for slot, value in slots.items():\n",
    "            self.state[\"slots\"][slot] = value\n",
    "\n",
    "    def get_state(self):\n",
    "        return self.state\n"
   ]
  },
  {
   "cell_type": "code",
   "execution_count": null,
   "id": "734e3eeb",
   "metadata": {},
   "outputs": [],
   "source": []
  }
 ],
 "metadata": {
  "language_info": {
   "name": "python"
  }
 },
 "nbformat": 4,
 "nbformat_minor": 5
}
